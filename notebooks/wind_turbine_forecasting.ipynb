{
 "cells": [
  {
   "cell_type": "markdown",
   "metadata": {},
   "source": [
    "# Wind Turbine Power Generation Forecasting\n",
    "\n",
    "Train dataset contains hourly meteorological data along with power output measurements collected between January 2013 and December 2016. The data includes variables such as temperature, relative humidity, wind speed at various altitudes, and power generated at different locations."
   ]
  },
  {
   "cell_type": "markdown",
   "metadata": {},
   "source": [
    "1. Import dependencies."
   ]
  },
  {
   "cell_type": "code",
   "execution_count": 1,
   "metadata": {},
   "outputs": [],
   "source": [
    "from lib.ml.layer.layer_def import Dense, Input\n",
    "from lib.ml.util.loss_function import MEAN_SQUARED_ERROR\n",
    "from lib.ml.model.seq_model import SeqNet\n",
    "from lib.ml.optimizer.genetic_optimizer import GeneticAlgorithmNeuralNetOptimizer\n",
    "from lib.ml.util.progress_tracker import PrintProgressTracker\n",
    "from src.data.wind_turbine.wind_turbine_dataset import (\n",
    "    download_wind_turbine_dataset,\n",
    "    process_wind_turbine_dataset,\n",
    ")\n",
    "from src.definitions import EXTERNAL_DATA_FOLDER\n",
    "from src.definitions import TEST_TRAIN_RATIO"
   ]
  },
  {
   "cell_type": "markdown",
   "metadata": {},
   "source": [
    "2. Download and process `sudhanvahg/wind-turbine-power-generation-forecasting` dataset."
   ]
  },
  {
   "cell_type": "code",
   "execution_count": 2,
   "metadata": {},
   "outputs": [
    {
     "data": {
      "text/html": [
       "<div>\n",
       "<style scoped>\n",
       "    .dataframe tbody tr th:only-of-type {\n",
       "        vertical-align: middle;\n",
       "    }\n",
       "\n",
       "    .dataframe tbody tr th {\n",
       "        vertical-align: top;\n",
       "    }\n",
       "\n",
       "    .dataframe thead th {\n",
       "        text-align: right;\n",
       "    }\n",
       "</style>\n",
       "<table border=\"1\" class=\"dataframe\">\n",
       "  <thead>\n",
       "    <tr style=\"text-align: right;\">\n",
       "      <th></th>\n",
       "      <th>Location</th>\n",
       "      <th>Temp_2m</th>\n",
       "      <th>RelHum_2m</th>\n",
       "      <th>DP_2m</th>\n",
       "      <th>WS_10m</th>\n",
       "      <th>WS_100m</th>\n",
       "      <th>WD_10m</th>\n",
       "      <th>WD_100m</th>\n",
       "      <th>WG_10m</th>\n",
       "      <th>Power</th>\n",
       "    </tr>\n",
       "  </thead>\n",
       "  <tbody>\n",
       "    <tr>\n",
       "      <th>0</th>\n",
       "      <td>1</td>\n",
       "      <td>28.2796</td>\n",
       "      <td>84.664205</td>\n",
       "      <td>24.072595</td>\n",
       "      <td>1.605389</td>\n",
       "      <td>1.267799</td>\n",
       "      <td>145.051683</td>\n",
       "      <td>161.057315</td>\n",
       "      <td>1.336515</td>\n",
       "      <td>0.163496</td>\n",
       "    </tr>\n",
       "    <tr>\n",
       "      <th>1</th>\n",
       "      <td>1</td>\n",
       "      <td>28.1796</td>\n",
       "      <td>85.664205</td>\n",
       "      <td>24.272595</td>\n",
       "      <td>2.225389</td>\n",
       "      <td>3.997799</td>\n",
       "      <td>150.051683</td>\n",
       "      <td>157.057315</td>\n",
       "      <td>4.336515</td>\n",
       "      <td>0.142396</td>\n",
       "    </tr>\n",
       "    <tr>\n",
       "      <th>2</th>\n",
       "      <td>1</td>\n",
       "      <td>26.5796</td>\n",
       "      <td>90.664205</td>\n",
       "      <td>24.072595</td>\n",
       "      <td>1.465389</td>\n",
       "      <td>2.787799</td>\n",
       "      <td>147.051683</td>\n",
       "      <td>149.057315</td>\n",
       "      <td>3.136515</td>\n",
       "      <td>0.121396</td>\n",
       "    </tr>\n",
       "    <tr>\n",
       "      <th>3</th>\n",
       "      <td>1</td>\n",
       "      <td>27.1796</td>\n",
       "      <td>87.664205</td>\n",
       "      <td>23.872595</td>\n",
       "      <td>1.465389</td>\n",
       "      <td>2.697799</td>\n",
       "      <td>57.051683</td>\n",
       "      <td>104.057315</td>\n",
       "      <td>1.536515</td>\n",
       "      <td>0.100296</td>\n",
       "    </tr>\n",
       "    <tr>\n",
       "      <th>4</th>\n",
       "      <td>1</td>\n",
       "      <td>27.0796</td>\n",
       "      <td>87.664205</td>\n",
       "      <td>23.672595</td>\n",
       "      <td>2.635389</td>\n",
       "      <td>4.437799</td>\n",
       "      <td>57.051683</td>\n",
       "      <td>83.057315</td>\n",
       "      <td>3.936515</td>\n",
       "      <td>0.079296</td>\n",
       "    </tr>\n",
       "  </tbody>\n",
       "</table>\n",
       "</div>"
      ],
      "text/plain": [
       "   Location  Temp_2m  RelHum_2m      DP_2m    WS_10m   WS_100m      WD_10m  \\\n",
       "0         1  28.2796  84.664205  24.072595  1.605389  1.267799  145.051683   \n",
       "1         1  28.1796  85.664205  24.272595  2.225389  3.997799  150.051683   \n",
       "2         1  26.5796  90.664205  24.072595  1.465389  2.787799  147.051683   \n",
       "3         1  27.1796  87.664205  23.872595  1.465389  2.697799   57.051683   \n",
       "4         1  27.0796  87.664205  23.672595  2.635389  4.437799   57.051683   \n",
       "\n",
       "      WD_100m    WG_10m     Power  \n",
       "0  161.057315  1.336515  0.163496  \n",
       "1  157.057315  4.336515  0.142396  \n",
       "2  149.057315  3.136515  0.121396  \n",
       "3  104.057315  1.536515  0.100296  \n",
       "4   83.057315  3.936515  0.079296  "
      ]
     },
     "execution_count": 2,
     "metadata": {},
     "output_type": "execute_result"
    }
   ],
   "source": [
    "archive = download_wind_turbine_dataset(EXTERNAL_DATA_FOLDER)\n",
    "train, test = process_wind_turbine_dataset(archive, TEST_TRAIN_RATIO)\n",
    "\n",
    "train.head(5)"
   ]
  },
  {
   "cell_type": "markdown",
   "metadata": {},
   "source": [
    "3. Define neural network."
   ]
  },
  {
   "cell_type": "code",
   "execution_count": 3,
   "metadata": {},
   "outputs": [],
   "source": [
    "model = SeqNet(layers=[Input(9), Dense(18), Dense(1)])\n",
    "opt = GeneticAlgorithmNeuralNetOptimizer(\n",
    "    population_size=40, mutation_rate=0.5, mutation_decay=0.5\n",
    ")\n",
    "\n",
    "compiled_model = model.compile(\n",
    "    optimizer=opt,\n",
    "    loss=MEAN_SQUARED_ERROR,\n",
    "    progress_tracker=PrintProgressTracker(100),\n",
    ")"
   ]
  },
  {
   "cell_type": "markdown",
   "metadata": {},
   "source": [
    "4. Train neural network."
   ]
  },
  {
   "cell_type": "code",
   "execution_count": 9,
   "metadata": {},
   "outputs": [
    {
     "name": "stdout",
     "output_type": "stream",
     "text": [
      "Iteration # [ 0 ] cost is: 215.6317824556684\n",
      "Iteration # [ 100 ] cost is: 10.047044184799114\n",
      "Iteration # [ 200 ] cost is: 10.06074430161541\n",
      "Iteration # [ 300 ] cost is: 9.909026506027313\n",
      "Iteration # [ 400 ] cost is: 10.168047937562132\n",
      "Iteration # [ 500 ] cost is: 10.156189209905852\n",
      "Iteration # [ 600 ] cost is: 9.983954883428115\n",
      "Iteration # [ 700 ] cost is: 10.133995920382135\n",
      "Iteration # [ 800 ] cost is: 9.938846205771139\n",
      "Iteration # [ 900 ] cost is: 10.107270618103975\n",
      "Train accuracy = 9.982535827251375\n"
     ]
    }
   ],
   "source": [
    "import numpy as np\n",
    "\n",
    "\n",
    "train_x = train.iloc[:, :-1].to_numpy().T\n",
    "train_y = train.iloc[:, -1].to_numpy().reshape(1, -1)\n",
    "\n",
    "trained_model = compiled_model.fit(train_x, train_y, 1000, 10000)\n",
    "\n",
    "print(\"Train accuracy = \" + str(trained_model.metrics().accuracy))"
   ]
  },
  {
   "cell_type": "markdown",
   "metadata": {},
   "source": [
    "5. Test neural network."
   ]
  },
  {
   "cell_type": "code",
   "execution_count": null,
   "metadata": {},
   "outputs": [],
   "source": [
    "test_x = test.head(1)\n",
    "\n",
    "display(test_x)\n",
    "\n",
    "y_predicted = trained_model.predict(test_x.to_numpy().T)\n",
    "\n",
    "print(\"Power is \" + str(y_predicted))"
   ]
  }
 ],
 "metadata": {
  "kernelspec": {
   "display_name": ".venv",
   "language": "python",
   "name": "python3"
  },
  "language_info": {
   "codemirror_mode": {
    "name": "ipython",
    "version": 3
   },
   "file_extension": ".py",
   "mimetype": "text/x-python",
   "name": "python",
   "nbconvert_exporter": "python",
   "pygments_lexer": "ipython3",
   "version": "3.12.6"
  }
 },
 "nbformat": 4,
 "nbformat_minor": 2
}
